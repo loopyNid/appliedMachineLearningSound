{
 "cells": [
  {
   "cell_type": "code",
   "execution_count": 21,
   "metadata": {},
   "outputs": [],
   "source": [
    "import os\n",
    "import librosa\n",
    "import numpy as np\n",
    "import matplotlib.pyplot as plt\n",
    "from pathlib import Path\n",
    "\n",
    "# Function to convert audio to spectrogram\n",
    "def create_spectrogram(audio_path, output_dir):\n",
    "    # Load audio file with librosa\n",
    "    y, sr = librosa.load(audio_path)\n",
    "    \n",
    "    # Compute spectrogram with librosa's short-time Fourier transform (STFT)\n",
    "    S = librosa.feature.melspectrogram(y=y, sr=sr)\n",
    "    S = librosa.core.power_to_db(S)\n",
    "    # Convert to dB scale\n",
    "    # spectrogram = librosa.amplitude_to_db(D, ref=np.max)\n",
    "    \n",
    "    # Plot and save the spectrogram\n",
    "    # plt.figure(figsize=(10, 5))\n",
    "    \n",
    "    # plt.colorbar(format='%+2.0f dB')\n",
    "    fig, ax = plt.subplots()\n",
    "    img = librosa.display.specshow(S, sr=sr, x_axis='time', y_axis='log')\n",
    "    ax.axis('off')\n",
    "    plt.savefig(output_dir / (audio_path.stem + '.png'), bbox_inches='tight', pad_inches=0)\n",
    "    plt.close()\n",
    "\n",
    "# Function to traverse directory tree recursively\n",
    "def convert_directory(input_dir, output_dir):\n",
    "    input_dir = Path(input_dir)\n",
    "    output_dir = Path(output_dir)\n",
    "    \n",
    "    # Create output directory if it doesn't exist\n",
    "    output_dir.mkdir(parents=True, exist_ok=True)\n",
    "    \n",
    "    # Traverse the directory tree\n",
    "    for dirpath, _, files in os.walk(input_dir):\n",
    "        # Create corresponding directory structure in output_dir\n",
    "        relative_dir = Path(dirpath).relative_to(input_dir)\n",
    "        new_dir = output_dir / relative_dir\n",
    "        new_dir.mkdir(parents=True, exist_ok=True)\n",
    "        \n",
    "        # Process each file in the current directory\n",
    "        for file in files:\n",
    "            if file.endswith('.wav'):\n",
    "                audio_path = Path(dirpath) / file\n",
    "                output_path = new_dir / (file[:-4] + '.png')  # Change extension to .png\n",
    "                create_spectrogram(audio_path, output_path.parent)\n",
    "\n",
    "# Example usage\n",
    "input_directory = 'padded'\n",
    "output_directory = 'specs'\n",
    "\n",
    "convert_directory(input_directory, output_directory)\n"
   ]
  }
 ],
 "metadata": {
  "kernelspec": {
   "display_name": "base",
   "language": "python",
   "name": "python3"
  },
  "language_info": {
   "codemirror_mode": {
    "name": "ipython",
    "version": 3
   },
   "file_extension": ".py",
   "mimetype": "text/x-python",
   "name": "python",
   "nbconvert_exporter": "python",
   "pygments_lexer": "ipython3",
   "version": "3.11.5"
  }
 },
 "nbformat": 4,
 "nbformat_minor": 2
}
